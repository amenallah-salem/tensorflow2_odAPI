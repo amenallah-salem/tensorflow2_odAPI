{
  "nbformat": 4,
  "nbformat_minor": 0,
  "metadata": {
    "accelerator": "GPU",
    "colab": {
      "name": "quickstart.ipynb",
      "provenance": [],
      "collapsed_sections": []
    },
    "kernelspec": {
      "display_name": "Python 3",
      "name": "python3"
    }
  },
  "cells": [
    {
      "cell_type": "code",
      "metadata": {
        "id": "vmuvOgralNwi"
      },
      "source": [
        "!git clone https://github.com/amenallah-salem/tensorflow2_odAPI.git"
      ],
      "execution_count": null,
      "outputs": []
    },
    {
      "cell_type": "code",
      "metadata": {
        "id": "e1O8mOauowr_"
      },
      "source": [
        "cd tensorflow2_odAPI"
      ],
      "execution_count": null,
      "outputs": []
    },
    {
      "cell_type": "code",
      "metadata": {
        "id": "A_Wpx8jwlQO2"
      },
      "source": [
        "# inside the tf2 object detection api folder--> run the following :\n",
        "!protoc ./object_detection/protos/*.proto --python_out=.\n",
        "#install dependencies\n",
        "!python -m pip install .\n",
        "#test tf2 API succseful building.\n",
        "!python ./object_detection/builders/model_builder_tf2_test.py"
      ],
      "execution_count": null,
      "outputs": []
    },
    {
      "cell_type": "code",
      "metadata": {
        "id": "OYaOer2SlYsG"
      },
      "source": [
        "#install additional requirements \n",
        "!pip install -r additional_requirements.txt"
      ],
      "execution_count": null,
      "outputs": []
    },
    {
      "cell_type": "code",
      "metadata": {
        "colab": {
          "base_uri": "https://localhost:8080/"
        },
        "id": "4vvFCAHWl3dK",
        "outputId": "1ec26122-a62d-4d33-a665-674e4c1a40a0"
      },
      "source": [
        "#display the cfg.yaml file: \n",
        "#one has only to fill the classes names & num_casses. The batch size is set by default to 1 to disable training crush \n",
        "!cat cfg.yaml"
      ],
      "execution_count": 79,
      "outputs": [
        {
          "output_type": "stream",
          "text": [
            "#to fill only class names and num classes, batch size\n",
            "\n",
            "num_classes: 4\n",
            "names: \n",
            "  airplane: 1\n",
            "  car: 2\n",
            "  bicycle: 3\n",
            "  person: 4\n",
            "\n",
            "\n",
            "batch_size: 1 \n",
            "model_main_directory: <MAIN_MODEL_DIR>\n",
            "fine_tune_checkpoint: <ckpt_ PATH>\n",
            "fine_tune_checkpoint_type: \"detection\"\n",
            "label_map_path: <LABEL_MAP_PATH>\n",
            "train_tf_record_input_path: <TRAIN_TF_RECORD_PATH>\n",
            "test_tf_record_input_path: <TEST_TF_RECORD_PATH>\n",
            "dir_saved_model: <PATH_TO TEST SAVED GRAPHS>\n",
            "path_images_for_train: <PATH_TO TEST IMAGES>\n",
            "path_images_for_valid: <PATH_TO TEST IMAGES>\n",
            "path_images_for_test: <PATH_TO TEST IMAGES>\n",
            "\n"
          ],
          "name": "stdout"
        }
      ]
    },
    {
      "cell_type": "code",
      "metadata": {
        "id": "mrzZn8I0nr6F"
      },
      "source": [
        "cd object_detection/"
      ],
      "execution_count": null,
      "outputs": []
    },
    {
      "cell_type": "code",
      "metadata": {
        "id": "N2EVQ2VNl_aK"
      },
      "source": [
        "#move the data (create a copy) from the stored location to /image folder inside the main repo \n",
        "!python move_data.py \\\n",
        "    --src_data /content/drive/MyDrive/data \\\n",
        "    --destination_data /content/tensorflow2_odAPI/object_detection/images"
      ],
      "execution_count": null,
      "outputs": []
    },
    {
      "cell_type": "code",
      "metadata": {
        "id": "zB_OyiUOMOhI"
      },
      "source": [
        "!cat xml_to_csv.py"
      ],
      "execution_count": null,
      "outputs": []
    },
    {
      "cell_type": "code",
      "metadata": {
        "id": "t68fFwiE-JaE"
      },
      "source": [
        "#convert xml annotations to csv file \n",
        "!python xml_to_csv.py"
      ],
      "execution_count": null,
      "outputs": []
    },
    {
      "cell_type": "code",
      "metadata": {
        "id": "dweNHCvfmA7w"
      },
      "source": [
        "#generate tf_records for training data --> inti train_utils folder \n",
        "!python generate_tfrecord.py \\\n",
        "    --csv_input=images/train_labels.csv \\\n",
        "    --image_dir=images/train \\\n",
        "    --output_path=train_utils/train.record"
      ],
      "execution_count": null,
      "outputs": []
    },
    {
      "cell_type": "code",
      "metadata": {
        "id": "1m57HnLgmCnA"
      },
      "source": [
        "#the same for testing dataset\n",
        "!python generate_tfrecord.py \\\n",
        "    --csv_input=images/valid_labels.csv \\\n",
        "    --image_dir=images/valid \\\n",
        "    --output_path=train_utils/valid.record"
      ],
      "execution_count": null,
      "outputs": []
    },
    {
      "cell_type": "code",
      "metadata": {
        "id": "tE7kmB9HmEgc"
      },
      "source": [
        "#create a labelmap.pbtxt file: the classes names are read from the cfg.yaml file \n",
        "!python create_labelmap.py"
      ],
      "execution_count": null,
      "outputs": []
    },
    {
      "cell_type": "code",
      "metadata": {
        "id": "5N3xnwnVmJF-"
      },
      "source": [
        "#this script will read the input model name, download it from tensorflow models zoo and modify the \n",
        "#data pipeline.config file to match with cfg.yaml initial configuration \n",
        "!python untar_gz_model.py"
      ],
      "execution_count": null,
      "outputs": []
    },
    {
      "cell_type": "code",
      "metadata": {
        "id": "Z91VQ8-QuQyG"
      },
      "source": [
        "#lunch the training: the training events are stored in /runs folder \n",
        "!python model_main_tf2.py \\\n",
        "--pipeline_config_path /content/tensorflow2_odAPI/object_detection/ssd_mobilenet_v2_320x320_coco17_tpu-8/pipeline.config \\\n",
        "--model_dir /content/tensorflow2_odAPI/object_detection/runs \\\n",
        "--num_train_steps=100 \\\n",
        "--alsologtostderr"
      ],
      "execution_count": null,
      "outputs": []
    },
    {
      "cell_type": "code",
      "metadata": {
        "id": "Pnd3IbfUmylJ"
      },
      "source": [
        "%load_ext tensorboard\n",
        "%tensorboard --logdir /runs"
      ],
      "execution_count": null,
      "outputs": []
    },
    {
      "cell_type": "code",
      "metadata": {
        "id": "ZI3tun2n3fA_"
      },
      "source": [
        "!python exporter_main_v2.py \\\n",
        "--trained_checkpoint_dir runs \\\n",
        "--pipeline_config_path /content/tensorflow2_odAPI/object_detection/ssd_mobilenet_v2_320x320_coco17_tpu-8/pipeline.config \\\n",
        "--output_directory inference_graph/frozen_graph"
      ],
      "execution_count": null,
      "outputs": []
    },
    {
      "cell_type": "code",
      "metadata": {
        "id": "vp_HcZJs9M1D"
      },
      "source": [
        "# !cp inference graph "
      ],
      "execution_count": null,
      "outputs": []
    },
    {
      "cell_type": "code",
      "metadata": {
        "id": "2blCBta7tj76"
      },
      "source": [
        "%matplotlib inline\n",
        "!python test.py\n",
        "#this scrpt will not output the predictions on notebook "
      ],
      "execution_count": null,
      "outputs": []
    },
    {
      "cell_type": "code",
      "metadata": {
        "id": "a_EKwTFfUPHt"
      },
      "source": [
        ""
      ],
      "execution_count": null,
      "outputs": []
    }
  ]
}